{
 "cells": [
  {
   "cell_type": "markdown",
   "metadata": {},
   "source": [
    "# Advanced Linear Regression  \n",
    "\n",
    "This is a repo for some advanced linear regression practice. We covered basic linear regression and some of the assumptions in the previous linear regression guided practice. Here, we want to take a look at some of the important concepts to consider when building models including, \n",
    "\n",
    "- identifying and dealing with categorical variables\n",
    "- understanding the assumptions of linear regression\n",
    "- understanding the various transformations\n",
    "- understanding the interpretation of coefficients\n",
    "- final model validation"
   ]
  },
  {
   "cell_type": "markdown",
   "metadata": {},
   "source": [
    "We will be using the **Ames housing data** from the Kaggle competition of regression techniques. This dataset is already divided into test and train sets. We will be focusing on using the train data. Now, this dataset has a large number of variables. For the sake of simplicity, we will be focusing on a select few from those. The ```data_description.txt``` file has details of all the features being provided."
   ]
  },
  {
   "cell_type": "markdown",
   "metadata": {},
   "source": [
    "The ```solution.ipynb``` notebook has the solution to this exercise. "
   ]
  },
  {
   "cell_type": "markdown",
   "metadata": {},
   "source": [
    "## Importing the data"
   ]
  },
  {
   "cell_type": "code",
   "execution_count": 2,
   "metadata": {
    "ExecuteTime": {
     "end_time": "2022-02-07T18:45:44.771995Z",
     "start_time": "2022-02-07T18:45:35.755775Z"
    }
   },
   "outputs": [
    {
     "name": "stdout",
     "output_type": "stream",
     "text": [
      "- Package Versions:\n",
      "\tMatplotlib = 3.3.2\n",
      "\tPandas = 1.1.3\n",
      "\tSeaborn = 0.11.0\n"
     ]
    }
   ],
   "source": [
    "import pandas as pd\n",
    "import numpy as np\n",
    "\n",
    "import matplotlib.pyplot as plt\n",
    "import matplotlib as mpl\n",
    "%matplotlib inline\n",
    "import seaborn as sns\n",
    "\n",
    "print('- Package Versions:')\n",
    "print(f'\\tMatplotlib = {mpl.__version__}')\n",
    "print(f'\\tPandas = {pd.__version__}')\n",
    "print(f'\\tSeaborn = {sns.__version__}')"
   ]
  },
  {
   "cell_type": "code",
   "execution_count": 4,
   "metadata": {
    "ExecuteTime": {
     "end_time": "2022-02-07T18:45:56.647317Z",
     "start_time": "2022-02-07T18:45:56.620455Z"
    }
   },
   "outputs": [],
   "source": [
    "cols_to_use = ['YrSold', 'MoSold', 'Fireplaces', 'TotRmsAbvGrd', 'GrLivArea',\n",
    "          'FullBath', 'YearRemodAdd', 'YearBuilt', 'OverallCond', \n",
    "          'OverallQual', 'LotArea', 'SalePrice','BldgType']\n",
    "df = pd.read_csv(\"train.csv\")\n",
    "df = df[cols_to_use]"
   ]
  },
  {
   "cell_type": "code",
   "execution_count": 5,
   "metadata": {
    "ExecuteTime": {
     "end_time": "2022-02-07T18:46:01.257009Z",
     "start_time": "2022-02-07T18:46:01.246442Z"
    }
   },
   "outputs": [
    {
     "name": "stdout",
     "output_type": "stream",
     "text": [
      "<class 'pandas.core.frame.DataFrame'>\n",
      "RangeIndex: 1460 entries, 0 to 1459\n",
      "Data columns (total 13 columns):\n",
      " #   Column        Non-Null Count  Dtype \n",
      "---  ------        --------------  ----- \n",
      " 0   YrSold        1460 non-null   int64 \n",
      " 1   MoSold        1460 non-null   int64 \n",
      " 2   Fireplaces    1460 non-null   int64 \n",
      " 3   TotRmsAbvGrd  1460 non-null   int64 \n",
      " 4   GrLivArea     1460 non-null   int64 \n",
      " 5   FullBath      1460 non-null   int64 \n",
      " 6   YearRemodAdd  1460 non-null   int64 \n",
      " 7   YearBuilt     1460 non-null   int64 \n",
      " 8   OverallCond   1460 non-null   int64 \n",
      " 9   OverallQual   1460 non-null   int64 \n",
      " 10  LotArea       1460 non-null   int64 \n",
      " 11  SalePrice     1460 non-null   int64 \n",
      " 12  BldgType      1460 non-null   object\n",
      "dtypes: int64(12), object(1)\n",
      "memory usage: 148.4+ KB\n"
     ]
    }
   ],
   "source": [
    "df.info()"
   ]
  },
  {
   "cell_type": "markdown",
   "metadata": {},
   "source": [
    "You will notice that we are only using specific columns from the dataset. This is done purely for managing time better. Feel free to use all the columns if you want. Also when you are working with the test data, ```test.csv``` be sure to apply these same changes to that data. Remember that you will not be provided the ```SalePrice``` for the test data. You can check out the Kaggle competition [here](https://www.kaggle.com/c/house-prices-advanced-regression-techniques). If you submit the predictions, you will get to see the RMSE of your results"
   ]
  },
  {
   "cell_type": "markdown",
   "metadata": {},
   "source": [
    "# EDA"
   ]
  },
  {
   "cell_type": "markdown",
   "metadata": {},
   "source": [
    "What are some interesting things that we should explore here? Keep in mind that before building a model, we need to first meet some of the assumptions of regression. We also need to identify the continuous and categorical variables and also the correlation between different variables"
   ]
  },
  {
   "cell_type": "code",
   "execution_count": 6,
   "metadata": {
    "ExecuteTime": {
     "end_time": "2022-02-07T18:52:36.584307Z",
     "start_time": "2022-02-07T18:52:36.581328Z"
    }
   },
   "outputs": [],
   "source": [
    "# EDA plots"
   ]
  },
  {
   "cell_type": "code",
   "execution_count": 7,
   "metadata": {
    "ExecuteTime": {
     "end_time": "2022-02-07T18:52:41.765109Z",
     "start_time": "2022-02-07T18:52:41.762769Z"
    }
   },
   "outputs": [],
   "source": [
    "# heatmap"
   ]
  },
  {
   "cell_type": "code",
   "execution_count": 8,
   "metadata": {
    "ExecuteTime": {
     "end_time": "2022-02-07T18:53:21.321541Z",
     "start_time": "2022-02-07T18:53:21.319366Z"
    }
   },
   "outputs": [],
   "source": [
    "# Make lists of variables we want to use. Its a good idea to make separate lists\n",
    "# for the continuous and categorical variables"
   ]
  },
  {
   "cell_type": "markdown",
   "metadata": {},
   "source": [
    "## Identifying the variables we will be using and their types"
   ]
  },
  {
   "cell_type": "markdown",
   "metadata": {},
   "source": [
    "Lets make some quick plots to try and identify the variables we will be using. To start with, we want to make a baseline model. Baseline models are defined as simple models that have decent results. They are not necessarily the best models, but they are easy to build and interpret"
   ]
  },
  {
   "cell_type": "code",
   "execution_count": 10,
   "metadata": {
    "ExecuteTime": {
     "end_time": "2022-02-07T18:58:26.483333Z",
     "start_time": "2022-02-07T18:58:26.481141Z"
    }
   },
   "outputs": [],
   "source": [
    "# identify the top 3 variables and make a new df with them"
   ]
  },
  {
   "cell_type": "markdown",
   "metadata": {},
   "source": [
    "# Modeling"
   ]
  },
  {
   "cell_type": "markdown",
   "metadata": {},
   "source": [
    "The idea behind modeling when using linear regression is to iteratively address issues in the previous models and build better models. There are various techniques available to us to improve our results. We will cover them briefly here."
   ]
  },
  {
   "cell_type": "markdown",
   "metadata": {},
   "source": [
    "## Baseline Model"
   ]
  },
  {
   "cell_type": "code",
   "execution_count": 11,
   "metadata": {
    "ExecuteTime": {
     "end_time": "2022-02-07T19:31:53.198470Z",
     "start_time": "2022-02-07T19:31:52.323859Z"
    }
   },
   "outputs": [],
   "source": [
    "from statsmodels.formula.api import ols"
   ]
  },
  {
   "cell_type": "markdown",
   "metadata": {},
   "source": [
    "Lets first build the baseline model. We will use the 3 variables we selected above and build the baseline model."
   ]
  },
  {
   "cell_type": "code",
   "execution_count": 13,
   "metadata": {
    "ExecuteTime": {
     "end_time": "2022-02-07T19:33:43.293919Z",
     "start_time": "2022-02-07T19:33:43.291251Z"
    }
   },
   "outputs": [],
   "source": [
    "# build the model and print the summary"
   ]
  },
  {
   "cell_type": "markdown",
   "metadata": {},
   "source": [
    "Lets identify interesting things from the summary. List three observations below. Also make sure you interpret at least one coefficient."
   ]
  },
  {
   "cell_type": "markdown",
   "metadata": {},
   "source": [
    "### Model diagnostics\n",
    "\n",
    "Determine how this model performs on the assumptions of normality of residuals and homoscedasticity by using the correct plots."
   ]
  },
  {
   "cell_type": "code",
   "execution_count": 14,
   "metadata": {
    "ExecuteTime": {
     "end_time": "2022-02-07T19:41:53.687656Z",
     "start_time": "2022-02-07T19:41:53.685545Z"
    }
   },
   "outputs": [],
   "source": [
    "# model validation"
   ]
  },
  {
   "cell_type": "markdown",
   "metadata": {},
   "source": [
    "List out your observations from the plots"
   ]
  },
  {
   "cell_type": "markdown",
   "metadata": {},
   "source": [
    "## Model 2 - Including the categorical variables"
   ]
  },
  {
   "cell_type": "markdown",
   "metadata": {},
   "source": [
    "Now, lets try including the categorical variables and make sure we are dealing with them correctly. Remember that there are 2 ways of dealing with categorical variables - label encoding and one hot encoding\n",
    "\n",
    "**Label encoding**- Label Encoding refers to converting the labels into a numeric form so as to convert them into the machine-readable form. One big issue in this technique is this may lead to the generation of priority issues in the training of data sets. A label with a high value may be considered to have high priority than a label having a lower value.\n",
    "\n",
    "**One hot encoding**- This is where the categorical variable is removed and a new binary variable is added for each unique integer value. The binary variables are often called “dummy variables” \n",
    "\n",
    "Lets decide which technique works here and do this for the ```BldgType``` variable"
   ]
  },
  {
   "cell_type": "code",
   "execution_count": 15,
   "metadata": {
    "ExecuteTime": {
     "end_time": "2022-02-07T19:47:44.043469Z",
     "start_time": "2022-02-07T19:47:44.041006Z"
    }
   },
   "outputs": [],
   "source": [
    "# deal with the BldgType variable"
   ]
  },
  {
   "cell_type": "markdown",
   "metadata": {},
   "source": [
    "Lets now include this variable in our model and see how things change"
   ]
  },
  {
   "cell_type": "code",
   "execution_count": 16,
   "metadata": {
    "ExecuteTime": {
     "end_time": "2022-02-07T19:48:10.173373Z",
     "start_time": "2022-02-07T19:48:10.171121Z"
    }
   },
   "outputs": [],
   "source": [
    "# build the model"
   ]
  },
  {
   "cell_type": "code",
   "execution_count": 17,
   "metadata": {
    "ExecuteTime": {
     "end_time": "2022-02-07T19:48:16.731880Z",
     "start_time": "2022-02-07T19:48:16.729551Z"
    }
   },
   "outputs": [],
   "source": [
    "# model diagnostics"
   ]
  },
  {
   "cell_type": "markdown",
   "metadata": {},
   "source": [
    "## Model 3 - Transformations of data"
   ]
  },
  {
   "cell_type": "markdown",
   "metadata": {},
   "source": [
    "Log transformation is a data transformation method in which it replaces each variable x with a log(x). In other words, the log transformation reduces or removes the skewness of our original data. The log transformation can be used to make highly skewed distributions less skewed."
   ]
  },
  {
   "cell_type": "code",
   "execution_count": 18,
   "metadata": {
    "ExecuteTime": {
     "end_time": "2022-02-07T19:54:56.531439Z",
     "start_time": "2022-02-07T19:54:56.528713Z"
    }
   },
   "outputs": [],
   "source": [
    "# lets log transform the dependent variable"
   ]
  },
  {
   "cell_type": "code",
   "execution_count": 19,
   "metadata": {
    "ExecuteTime": {
     "end_time": "2022-02-07T19:55:08.631927Z",
     "start_time": "2022-02-07T19:55:08.627697Z"
    }
   },
   "outputs": [],
   "source": [
    "# build a new model with the log transformed target"
   ]
  },
  {
   "cell_type": "code",
   "execution_count": 20,
   "metadata": {
    "ExecuteTime": {
     "end_time": "2022-02-07T19:55:19.436754Z",
     "start_time": "2022-02-07T19:55:19.434594Z"
    }
   },
   "outputs": [],
   "source": [
    "# model diagnostics"
   ]
  },
  {
   "cell_type": "markdown",
   "metadata": {},
   "source": [
    "Comment on the new plots. Did they improve? Did they get worse?"
   ]
  }
 ],
 "metadata": {
  "kernelspec": {
   "display_name": "Python 3",
   "language": "python",
   "name": "python3"
  },
  "language_info": {
   "codemirror_mode": {
    "name": "ipython",
    "version": 3
   },
   "file_extension": ".py",
   "mimetype": "text/x-python",
   "name": "python",
   "nbconvert_exporter": "python",
   "pygments_lexer": "ipython3",
   "version": "3.8.5"
  },
  "toc": {
   "base_numbering": 1,
   "nav_menu": {},
   "number_sections": true,
   "sideBar": true,
   "skip_h1_title": false,
   "title_cell": "Table of Contents",
   "title_sidebar": "Contents",
   "toc_cell": false,
   "toc_position": {},
   "toc_section_display": true,
   "toc_window_display": false
  },
  "varInspector": {
   "cols": {
    "lenName": 16,
    "lenType": 16,
    "lenVar": 40
   },
   "kernels_config": {
    "python": {
     "delete_cmd_postfix": "",
     "delete_cmd_prefix": "del ",
     "library": "var_list.py",
     "varRefreshCmd": "print(var_dic_list())"
    },
    "r": {
     "delete_cmd_postfix": ") ",
     "delete_cmd_prefix": "rm(",
     "library": "var_list.r",
     "varRefreshCmd": "cat(var_dic_list()) "
    }
   },
   "types_to_exclude": [
    "module",
    "function",
    "builtin_function_or_method",
    "instance",
    "_Feature"
   ],
   "window_display": false
  }
 },
 "nbformat": 4,
 "nbformat_minor": 4
}
